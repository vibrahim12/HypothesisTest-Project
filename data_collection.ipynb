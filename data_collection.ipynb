{
 "cells": [
  {
   "cell_type": "markdown",
   "metadata": {},
   "source": [
    "# DSO 510 Project: Data Collection"
   ]
  },
  {
   "cell_type": "markdown",
   "metadata": {},
   "source": [
    "## Importing Libaries "
   ]
  },
  {
   "cell_type": "code",
   "execution_count": 35,
   "metadata": {},
   "outputs": [],
   "source": [
    "import matplotlib.pyplot as plt # plotting\n",
    "#import basemap # plotting maps\n",
    "import os # accessing directory structure\n",
    "import pandas as pd # data processing, CSV file I/O (e.g. pd.read_csv)\n",
    "import sqlite3 # read the database\n",
    "\n",
    "pd.set_option(\"display.max_columns\", None)"
   ]
  },
  {
   "cell_type": "markdown",
   "metadata": {},
   "source": [
    "## Finding the SWITRS Database"
   ]
  },
  {
   "cell_type": "code",
   "execution_count": 36,
   "metadata": {},
   "outputs": [],
   "source": [
    "for dirname, _, filenames in os.walk(' '): #your own files\n",
    "    for filename in filenames:\n",
    "        print(os.path.join(dirname, filename))"
   ]
  },
  {
   "cell_type": "markdown",
   "metadata": {},
   "source": [
    "## SQL Query to extract our raw data\n",
    "\n",
    "We are selecting only the variables that we think might be useful for our analysis at this stage. \n",
    "\n",
    "\n",
    "We are joinning the `parties` table to `collisions` table by matching their `case_id`. \n",
    "\n",
    "\n",
    "We filtered for the vehicle makes that we are interested in and passengar cars and sport utility vehicle car types. "
   ]
  },
  {
   "cell_type": "code",
   "execution_count": 37,
   "metadata": {},
   "outputs": [],
   "source": [
    "with sqlite3.connect(\" \") as con: #your own files\n",
    "\n",
    "    query = (\n",
    "        '''\n",
    "        SELECT \n",
    "            p.case_id, vehicle_year, vehicle_make, party_age, party_sex, \n",
    "            statewide_vehicle_type, chp_vehicle_type_towing, party_type, \n",
    "            at_fault, party_sobriety, party_number_killed, \n",
    "            party_number_injured, collision_severity, weather_1, lighting,\n",
    "            collision_date, county_location\n",
    "        FROM parties p \n",
    "        LEFT JOIN collisions c \n",
    "        ON p.case_id = c.case_id\n",
    "        WHERE \n",
    "            vehicle_make IN ('mercedes-benz', 'bmw', 'audi', 'volvo', 'porsche', 'volkswagen') AND \n",
    "            statewide_vehicle_type == 'passenger car' AND \n",
    "            chp_vehicle_type_towing IN ('passenger car, station', 'sport utility vehicle')\n",
    "        ;'''\n",
    "    )\n",
    "\n",
    "    # Construct a Dataframe from the results\n",
    "    df = pd.read_sql_query(query, con)"
   ]
  },
  {
   "cell_type": "code",
   "execution_count": 38,
   "metadata": {},
   "outputs": [
    {
     "data": {
      "text/plain": [
       "(950533, 17)"
      ]
     },
     "execution_count": 38,
     "metadata": {},
     "output_type": "execute_result"
    }
   ],
   "source": [
    "df.shape"
   ]
  },
  {
   "cell_type": "code",
   "execution_count": 39,
   "metadata": {},
   "outputs": [
    {
     "data": {
      "text/html": [
       "<div>\n",
       "<style scoped>\n",
       "    .dataframe tbody tr th:only-of-type {\n",
       "        vertical-align: middle;\n",
       "    }\n",
       "\n",
       "    .dataframe tbody tr th {\n",
       "        vertical-align: top;\n",
       "    }\n",
       "\n",
       "    .dataframe thead th {\n",
       "        text-align: right;\n",
       "    }\n",
       "</style>\n",
       "<table border=\"1\" class=\"dataframe\">\n",
       "  <thead>\n",
       "    <tr style=\"text-align: right;\">\n",
       "      <th></th>\n",
       "      <th>case_id</th>\n",
       "      <th>vehicle_year</th>\n",
       "      <th>vehicle_make</th>\n",
       "      <th>party_age</th>\n",
       "      <th>party_sex</th>\n",
       "      <th>statewide_vehicle_type</th>\n",
       "      <th>chp_vehicle_type_towing</th>\n",
       "      <th>party_type</th>\n",
       "      <th>at_fault</th>\n",
       "      <th>party_sobriety</th>\n",
       "      <th>party_number_killed</th>\n",
       "      <th>party_number_injured</th>\n",
       "      <th>collision_severity</th>\n",
       "      <th>weather_1</th>\n",
       "      <th>lighting</th>\n",
       "      <th>collision_date</th>\n",
       "      <th>county_location</th>\n",
       "    </tr>\n",
       "  </thead>\n",
       "  <tbody>\n",
       "    <tr>\n",
       "      <th>0</th>\n",
       "      <td>3899446</td>\n",
       "      <td>2004.0</td>\n",
       "      <td>bmw</td>\n",
       "      <td>36.0</td>\n",
       "      <td>male</td>\n",
       "      <td>passenger car</td>\n",
       "      <td>passenger car, station</td>\n",
       "      <td>driver</td>\n",
       "      <td>1</td>\n",
       "      <td>had not been drinking</td>\n",
       "      <td>0</td>\n",
       "      <td>0</td>\n",
       "      <td>property damage only</td>\n",
       "      <td>cloudy</td>\n",
       "      <td>dusk or dawn</td>\n",
       "      <td>2009-02-11</td>\n",
       "      <td>los angeles</td>\n",
       "    </tr>\n",
       "    <tr>\n",
       "      <th>1</th>\n",
       "      <td>3899454</td>\n",
       "      <td>2001.0</td>\n",
       "      <td>volkswagen</td>\n",
       "      <td>51.0</td>\n",
       "      <td>female</td>\n",
       "      <td>passenger car</td>\n",
       "      <td>passenger car, station</td>\n",
       "      <td>driver</td>\n",
       "      <td>0</td>\n",
       "      <td>had not been drinking</td>\n",
       "      <td>0</td>\n",
       "      <td>0</td>\n",
       "      <td>pain</td>\n",
       "      <td>cloudy</td>\n",
       "      <td>dark with street lights</td>\n",
       "      <td>2009-02-08</td>\n",
       "      <td>los angeles</td>\n",
       "    </tr>\n",
       "    <tr>\n",
       "      <th>2</th>\n",
       "      <td>3899457</td>\n",
       "      <td>2004.0</td>\n",
       "      <td>volvo</td>\n",
       "      <td>34.0</td>\n",
       "      <td>female</td>\n",
       "      <td>passenger car</td>\n",
       "      <td>passenger car, station</td>\n",
       "      <td>driver</td>\n",
       "      <td>1</td>\n",
       "      <td>had not been drinking</td>\n",
       "      <td>0</td>\n",
       "      <td>0</td>\n",
       "      <td>property damage only</td>\n",
       "      <td>clear</td>\n",
       "      <td>daylight</td>\n",
       "      <td>2009-02-10</td>\n",
       "      <td>los angeles</td>\n",
       "    </tr>\n",
       "  </tbody>\n",
       "</table>\n",
       "</div>"
      ],
      "text/plain": [
       "   case_id  vehicle_year vehicle_make  party_age party_sex  \\\n",
       "0  3899446        2004.0          bmw       36.0      male   \n",
       "1  3899454        2001.0   volkswagen       51.0    female   \n",
       "2  3899457        2004.0        volvo       34.0    female   \n",
       "\n",
       "  statewide_vehicle_type chp_vehicle_type_towing party_type  at_fault  \\\n",
       "0          passenger car  passenger car, station     driver         1   \n",
       "1          passenger car  passenger car, station     driver         0   \n",
       "2          passenger car  passenger car, station     driver         1   \n",
       "\n",
       "          party_sobriety  party_number_killed  party_number_injured  \\\n",
       "0  had not been drinking                    0                     0   \n",
       "1  had not been drinking                    0                     0   \n",
       "2  had not been drinking                    0                     0   \n",
       "\n",
       "     collision_severity weather_1                 lighting collision_date  \\\n",
       "0  property damage only    cloudy             dusk or dawn     2009-02-11   \n",
       "1                  pain    cloudy  dark with street lights     2009-02-08   \n",
       "2  property damage only     clear                 daylight     2009-02-10   \n",
       "\n",
       "  county_location  \n",
       "0     los angeles  \n",
       "1     los angeles  \n",
       "2     los angeles  "
      ]
     },
     "execution_count": 39,
     "metadata": {},
     "output_type": "execute_result"
    }
   ],
   "source": [
    "# Check if the initial query was done properly. \n",
    "df.head(3)"
   ]
  },
  {
   "cell_type": "markdown",
   "metadata": {},
   "source": [
    "## Data Cleaning "
   ]
  },
  {
   "cell_type": "markdown",
   "metadata": {},
   "source": [
    "### Taking care of missing values"
   ]
  },
  {
   "cell_type": "code",
   "execution_count": 40,
   "metadata": {},
   "outputs": [
    {
     "data": {
      "text/plain": [
       "case_id  vehicle_year  vehicle_make  party_age  party_sex  statewide_vehicle_type  chp_vehicle_type_towing  party_type  at_fault  party_sobriety  party_number_killed  party_number_injured  collision_severity  weather_1  lighting  collision_date  county_location\n",
       "False    False         False         False      False      False                   False                    False       False     False           False                False                 False               False      False     False           False              853548\n",
       "dtype: int64"
      ]
     },
     "execution_count": 40,
     "metadata": {},
     "output_type": "execute_result"
    }
   ],
   "source": [
    "# drop rows with missing values on these columns because we don't know what do map it to\n",
    "df = df.dropna(subset=['vehicle_year','chp_vehicle_type_towing', 'party_type', 'weather_1', 'lighting', 'party_sex', 'party_age'])\n",
    "\n",
    "# We will assume that if sobriety was not reported, then the driver was sober\n",
    "df['party_sobriety'] = df['party_sobriety'].fillna('had not been drinking')\n",
    "\n",
    "# check that we don't have any missing values \n",
    "df.isna().value_counts()"
   ]
  },
  {
   "cell_type": "code",
   "execution_count": 41,
   "metadata": {},
   "outputs": [
    {
     "data": {
      "text/plain": [
       "(853548, 17)"
      ]
     },
     "execution_count": 41,
     "metadata": {},
     "output_type": "execute_result"
    }
   ],
   "source": [
    "df.shape"
   ]
  },
  {
   "cell_type": "markdown",
   "metadata": {},
   "source": [
    "## Create dummy variable for `collision_severity `\n",
    "- We will map **Fatal** and **Severe Injuries** to 1 and others to 0. "
   ]
  },
  {
   "cell_type": "code",
   "execution_count": 42,
   "metadata": {},
   "outputs": [
    {
     "data": {
      "text/plain": [
       "0.021507870676282997"
      ]
     },
     "execution_count": 42,
     "metadata": {},
     "output_type": "execute_result"
    }
   ],
   "source": [
    "severity_map = {\n",
    "        'fatal': 1,\n",
    "        'severe injury': 1,\n",
    "        'property damage only': 0,\n",
    "        'pain': 0,\n",
    "        'other injury': 0\n",
    "}\n",
    "df['severity'] = df['collision_severity'].map(severity_map)\n",
    "\n",
    "df['severity'].mean() # about 2.1% of the collisons end in fatal or severe injury. "
   ]
  },
  {
   "cell_type": "markdown",
   "metadata": {},
   "source": [
    "## Create dummy variable for `party_sobriety`\n",
    "- Map **had been drinking, under influence** to 1 and others to 0."
   ]
  },
  {
   "cell_type": "code",
   "execution_count": 43,
   "metadata": {},
   "outputs": [
    {
     "data": {
      "text/plain": [
       "0.04690655944363996"
      ]
     },
     "execution_count": 43,
     "metadata": {},
     "output_type": "execute_result"
    }
   ],
   "source": [
    "list_0 = df['party_sobriety'].unique()[df['party_sobriety'].unique() != 'had been drinking, under influence'] \n",
    "sobriety_map = {'had been drinking, under influence': 1}\n",
    "for i in list_0: \n",
    "    sobriety_map[i] = 0\n",
    "df['sobriety'] = df['party_sobriety'].map(sobriety_map)\n",
    "df['sobriety'].mean() # about 4.3% of the collisions involved DUI "
   ]
  },
  {
   "cell_type": "markdown",
   "metadata": {},
   "source": [
    "## Create dummy variable for `vehicle_make`\n",
    "- Map **volvo** to 1 and others to 0. "
   ]
  },
  {
   "cell_type": "code",
   "execution_count": 44,
   "metadata": {},
   "outputs": [
    {
     "data": {
      "text/html": [
       "<div>\n",
       "<style scoped>\n",
       "    .dataframe tbody tr th:only-of-type {\n",
       "        vertical-align: middle;\n",
       "    }\n",
       "\n",
       "    .dataframe tbody tr th {\n",
       "        vertical-align: top;\n",
       "    }\n",
       "\n",
       "    .dataframe thead th {\n",
       "        text-align: right;\n",
       "    }\n",
       "</style>\n",
       "<table border=\"1\" class=\"dataframe\">\n",
       "  <thead>\n",
       "    <tr style=\"text-align: right;\">\n",
       "      <th></th>\n",
       "      <th>case_id</th>\n",
       "      <th>vehicle_year</th>\n",
       "      <th>vehicle_make</th>\n",
       "      <th>party_age</th>\n",
       "      <th>party_sex</th>\n",
       "      <th>statewide_vehicle_type</th>\n",
       "      <th>chp_vehicle_type_towing</th>\n",
       "      <th>party_type</th>\n",
       "      <th>at_fault</th>\n",
       "      <th>party_sobriety</th>\n",
       "      <th>party_number_killed</th>\n",
       "      <th>party_number_injured</th>\n",
       "      <th>collision_severity</th>\n",
       "      <th>weather_1</th>\n",
       "      <th>lighting</th>\n",
       "      <th>collision_date</th>\n",
       "      <th>county_location</th>\n",
       "      <th>severity</th>\n",
       "      <th>sobriety</th>\n",
       "      <th>volvo</th>\n",
       "    </tr>\n",
       "  </thead>\n",
       "  <tbody>\n",
       "    <tr>\n",
       "      <th>0</th>\n",
       "      <td>3899446</td>\n",
       "      <td>2004.0</td>\n",
       "      <td>bmw</td>\n",
       "      <td>36.0</td>\n",
       "      <td>male</td>\n",
       "      <td>passenger car</td>\n",
       "      <td>passenger car, station</td>\n",
       "      <td>driver</td>\n",
       "      <td>1</td>\n",
       "      <td>had not been drinking</td>\n",
       "      <td>0</td>\n",
       "      <td>0</td>\n",
       "      <td>property damage only</td>\n",
       "      <td>cloudy</td>\n",
       "      <td>dusk or dawn</td>\n",
       "      <td>2009-02-11</td>\n",
       "      <td>los angeles</td>\n",
       "      <td>0</td>\n",
       "      <td>0</td>\n",
       "      <td>0</td>\n",
       "    </tr>\n",
       "    <tr>\n",
       "      <th>1</th>\n",
       "      <td>3899454</td>\n",
       "      <td>2001.0</td>\n",
       "      <td>volkswagen</td>\n",
       "      <td>51.0</td>\n",
       "      <td>female</td>\n",
       "      <td>passenger car</td>\n",
       "      <td>passenger car, station</td>\n",
       "      <td>driver</td>\n",
       "      <td>0</td>\n",
       "      <td>had not been drinking</td>\n",
       "      <td>0</td>\n",
       "      <td>0</td>\n",
       "      <td>pain</td>\n",
       "      <td>cloudy</td>\n",
       "      <td>dark with street lights</td>\n",
       "      <td>2009-02-08</td>\n",
       "      <td>los angeles</td>\n",
       "      <td>0</td>\n",
       "      <td>0</td>\n",
       "      <td>0</td>\n",
       "    </tr>\n",
       "    <tr>\n",
       "      <th>2</th>\n",
       "      <td>3899457</td>\n",
       "      <td>2004.0</td>\n",
       "      <td>volvo</td>\n",
       "      <td>34.0</td>\n",
       "      <td>female</td>\n",
       "      <td>passenger car</td>\n",
       "      <td>passenger car, station</td>\n",
       "      <td>driver</td>\n",
       "      <td>1</td>\n",
       "      <td>had not been drinking</td>\n",
       "      <td>0</td>\n",
       "      <td>0</td>\n",
       "      <td>property damage only</td>\n",
       "      <td>clear</td>\n",
       "      <td>daylight</td>\n",
       "      <td>2009-02-10</td>\n",
       "      <td>los angeles</td>\n",
       "      <td>0</td>\n",
       "      <td>0</td>\n",
       "      <td>1</td>\n",
       "    </tr>\n",
       "    <tr>\n",
       "      <th>3</th>\n",
       "      <td>3899497</td>\n",
       "      <td>2003.0</td>\n",
       "      <td>mercedes-benz</td>\n",
       "      <td>43.0</td>\n",
       "      <td>male</td>\n",
       "      <td>passenger car</td>\n",
       "      <td>passenger car, station</td>\n",
       "      <td>driver</td>\n",
       "      <td>0</td>\n",
       "      <td>had not been drinking</td>\n",
       "      <td>0</td>\n",
       "      <td>0</td>\n",
       "      <td>pain</td>\n",
       "      <td>clear</td>\n",
       "      <td>dark with street lights</td>\n",
       "      <td>2009-02-25</td>\n",
       "      <td>los angeles</td>\n",
       "      <td>0</td>\n",
       "      <td>0</td>\n",
       "      <td>0</td>\n",
       "    </tr>\n",
       "    <tr>\n",
       "      <th>4</th>\n",
       "      <td>3899497</td>\n",
       "      <td>2003.0</td>\n",
       "      <td>mercedes-benz</td>\n",
       "      <td>55.0</td>\n",
       "      <td>male</td>\n",
       "      <td>passenger car</td>\n",
       "      <td>passenger car, station</td>\n",
       "      <td>driver</td>\n",
       "      <td>0</td>\n",
       "      <td>had not been drinking</td>\n",
       "      <td>0</td>\n",
       "      <td>1</td>\n",
       "      <td>pain</td>\n",
       "      <td>clear</td>\n",
       "      <td>dark with street lights</td>\n",
       "      <td>2009-02-25</td>\n",
       "      <td>los angeles</td>\n",
       "      <td>0</td>\n",
       "      <td>0</td>\n",
       "      <td>0</td>\n",
       "    </tr>\n",
       "  </tbody>\n",
       "</table>\n",
       "</div>"
      ],
      "text/plain": [
       "   case_id  vehicle_year   vehicle_make  party_age party_sex  \\\n",
       "0  3899446        2004.0            bmw       36.0      male   \n",
       "1  3899454        2001.0     volkswagen       51.0    female   \n",
       "2  3899457        2004.0          volvo       34.0    female   \n",
       "3  3899497        2003.0  mercedes-benz       43.0      male   \n",
       "4  3899497        2003.0  mercedes-benz       55.0      male   \n",
       "\n",
       "  statewide_vehicle_type chp_vehicle_type_towing party_type  at_fault  \\\n",
       "0          passenger car  passenger car, station     driver         1   \n",
       "1          passenger car  passenger car, station     driver         0   \n",
       "2          passenger car  passenger car, station     driver         1   \n",
       "3          passenger car  passenger car, station     driver         0   \n",
       "4          passenger car  passenger car, station     driver         0   \n",
       "\n",
       "          party_sobriety  party_number_killed  party_number_injured  \\\n",
       "0  had not been drinking                    0                     0   \n",
       "1  had not been drinking                    0                     0   \n",
       "2  had not been drinking                    0                     0   \n",
       "3  had not been drinking                    0                     0   \n",
       "4  had not been drinking                    0                     1   \n",
       "\n",
       "     collision_severity weather_1                 lighting collision_date  \\\n",
       "0  property damage only    cloudy             dusk or dawn     2009-02-11   \n",
       "1                  pain    cloudy  dark with street lights     2009-02-08   \n",
       "2  property damage only     clear                 daylight     2009-02-10   \n",
       "3                  pain     clear  dark with street lights     2009-02-25   \n",
       "4                  pain     clear  dark with street lights     2009-02-25   \n",
       "\n",
       "  county_location  severity  sobriety  volvo  \n",
       "0     los angeles         0         0      0  \n",
       "1     los angeles         0         0      0  \n",
       "2     los angeles         0         0      1  \n",
       "3     los angeles         0         0      0  \n",
       "4     los angeles         0         0      0  "
      ]
     },
     "execution_count": 44,
     "metadata": {},
     "output_type": "execute_result"
    }
   ],
   "source": [
    "not_volvo = df['vehicle_make'].unique()[df['vehicle_make'].unique() != 'volvo']\n",
    "volvo_map = {'volvo':1}\n",
    "for i in not_volvo: \n",
    "    volvo_map[i] = 0 \n",
    "df['volvo'] = df['vehicle_make'].map(volvo_map)\n",
    "df.head()"
   ]
  },
  {
   "cell_type": "markdown",
   "metadata": {},
   "source": [
    "## Create categorical variable for `weather_1` and `lighting\n",
    "- Assign number for each weather condition and lighting.\n",
    "- The mappings printed below"
   ]
  },
  {
   "cell_type": "code",
   "execution_count": 45,
   "metadata": {},
   "outputs": [
    {
     "data": {
      "text/plain": [
       "clear      711082\n",
       "cloudy     113339\n",
       "raining     25588\n",
       "fog          2209\n",
       "snowing       667\n",
       "wind          235\n",
       "Name: weather_1, dtype: int64"
      ]
     },
     "execution_count": 45,
     "metadata": {},
     "output_type": "execute_result"
    }
   ],
   "source": [
    "df['weather_1'].value_counts()\n",
    "\n",
    "# drop weather condition marked as other since we don't know if it was good or bad weather \n",
    "df.drop(df[df['weather_1']== 'other'].index, inplace = True)\n",
    "df['weather_1'].value_counts()"
   ]
  },
  {
   "cell_type": "code",
   "execution_count": 46,
   "metadata": {},
   "outputs": [],
   "source": [
    "weather_map = dict((condition, 0) if condition in ['clear','cloudy'] else (condition,1) for condition in df['weather_1'].unique())\n",
    "\n",
    "weather_map\n",
    "df['weather'] = df['weather_1'].map(weather_map)"
   ]
  },
  {
   "cell_type": "markdown",
   "metadata": {},
   "source": [
    "## Create categorical variable for lighting"
   ]
  },
  {
   "cell_type": "code",
   "execution_count": 47,
   "metadata": {},
   "outputs": [],
   "source": [
    "lighting_map = dict((condition, 0) if condition in ['dark with street lights','daylight'] else (condition,1) for condition in df['lighting'].unique())\n",
    "df['light'] = df['lighting'].map(lighting_map)"
   ]
  },
  {
   "cell_type": "markdown",
   "metadata": {},
   "source": [
    "## Create dummy variable for `vehicle_type`"
   ]
  },
  {
   "cell_type": "code",
   "execution_count": 48,
   "metadata": {},
   "outputs": [],
   "source": [
    "df['suv'] = df['chp_vehicle_type_towing'].map({'passenger car, station': 0, 'sport utility vehicle':1})"
   ]
  },
  {
   "cell_type": "markdown",
   "metadata": {},
   "source": [
    "## Create `vehicle_age` variable \n",
    "- Calculate the age of the vehicle at the time of the collision "
   ]
  },
  {
   "cell_type": "code",
   "execution_count": 49,
   "metadata": {},
   "outputs": [
    {
     "data": {
      "text/html": [
       "<div>\n",
       "<style scoped>\n",
       "    .dataframe tbody tr th:only-of-type {\n",
       "        vertical-align: middle;\n",
       "    }\n",
       "\n",
       "    .dataframe tbody tr th {\n",
       "        vertical-align: top;\n",
       "    }\n",
       "\n",
       "    .dataframe thead th {\n",
       "        text-align: right;\n",
       "    }\n",
       "</style>\n",
       "<table border=\"1\" class=\"dataframe\">\n",
       "  <thead>\n",
       "    <tr style=\"text-align: right;\">\n",
       "      <th></th>\n",
       "      <th>case_id</th>\n",
       "      <th>vehicle_year</th>\n",
       "      <th>vehicle_make</th>\n",
       "      <th>party_age</th>\n",
       "      <th>party_sex</th>\n",
       "      <th>statewide_vehicle_type</th>\n",
       "      <th>chp_vehicle_type_towing</th>\n",
       "      <th>party_type</th>\n",
       "      <th>at_fault</th>\n",
       "      <th>party_sobriety</th>\n",
       "      <th>party_number_killed</th>\n",
       "      <th>party_number_injured</th>\n",
       "      <th>collision_severity</th>\n",
       "      <th>weather_1</th>\n",
       "      <th>lighting</th>\n",
       "      <th>collision_date</th>\n",
       "      <th>county_location</th>\n",
       "      <th>severity</th>\n",
       "      <th>sobriety</th>\n",
       "      <th>volvo</th>\n",
       "      <th>weather</th>\n",
       "      <th>light</th>\n",
       "      <th>suv</th>\n",
       "      <th>vehicle_age</th>\n",
       "    </tr>\n",
       "  </thead>\n",
       "  <tbody>\n",
       "    <tr>\n",
       "      <th>0</th>\n",
       "      <td>3899446</td>\n",
       "      <td>2004.0</td>\n",
       "      <td>bmw</td>\n",
       "      <td>36.0</td>\n",
       "      <td>male</td>\n",
       "      <td>passenger car</td>\n",
       "      <td>passenger car, station</td>\n",
       "      <td>driver</td>\n",
       "      <td>1</td>\n",
       "      <td>had not been drinking</td>\n",
       "      <td>0</td>\n",
       "      <td>0</td>\n",
       "      <td>property damage only</td>\n",
       "      <td>cloudy</td>\n",
       "      <td>dusk or dawn</td>\n",
       "      <td>2009-02-11</td>\n",
       "      <td>los angeles</td>\n",
       "      <td>0</td>\n",
       "      <td>0</td>\n",
       "      <td>0</td>\n",
       "      <td>0</td>\n",
       "      <td>1</td>\n",
       "      <td>0</td>\n",
       "      <td>5.0</td>\n",
       "    </tr>\n",
       "    <tr>\n",
       "      <th>1</th>\n",
       "      <td>3899454</td>\n",
       "      <td>2001.0</td>\n",
       "      <td>volkswagen</td>\n",
       "      <td>51.0</td>\n",
       "      <td>female</td>\n",
       "      <td>passenger car</td>\n",
       "      <td>passenger car, station</td>\n",
       "      <td>driver</td>\n",
       "      <td>0</td>\n",
       "      <td>had not been drinking</td>\n",
       "      <td>0</td>\n",
       "      <td>0</td>\n",
       "      <td>pain</td>\n",
       "      <td>cloudy</td>\n",
       "      <td>dark with street lights</td>\n",
       "      <td>2009-02-08</td>\n",
       "      <td>los angeles</td>\n",
       "      <td>0</td>\n",
       "      <td>0</td>\n",
       "      <td>0</td>\n",
       "      <td>0</td>\n",
       "      <td>0</td>\n",
       "      <td>0</td>\n",
       "      <td>8.0</td>\n",
       "    </tr>\n",
       "    <tr>\n",
       "      <th>2</th>\n",
       "      <td>3899457</td>\n",
       "      <td>2004.0</td>\n",
       "      <td>volvo</td>\n",
       "      <td>34.0</td>\n",
       "      <td>female</td>\n",
       "      <td>passenger car</td>\n",
       "      <td>passenger car, station</td>\n",
       "      <td>driver</td>\n",
       "      <td>1</td>\n",
       "      <td>had not been drinking</td>\n",
       "      <td>0</td>\n",
       "      <td>0</td>\n",
       "      <td>property damage only</td>\n",
       "      <td>clear</td>\n",
       "      <td>daylight</td>\n",
       "      <td>2009-02-10</td>\n",
       "      <td>los angeles</td>\n",
       "      <td>0</td>\n",
       "      <td>0</td>\n",
       "      <td>1</td>\n",
       "      <td>0</td>\n",
       "      <td>0</td>\n",
       "      <td>0</td>\n",
       "      <td>5.0</td>\n",
       "    </tr>\n",
       "  </tbody>\n",
       "</table>\n",
       "</div>"
      ],
      "text/plain": [
       "   case_id  vehicle_year vehicle_make  party_age party_sex  \\\n",
       "0  3899446        2004.0          bmw       36.0      male   \n",
       "1  3899454        2001.0   volkswagen       51.0    female   \n",
       "2  3899457        2004.0        volvo       34.0    female   \n",
       "\n",
       "  statewide_vehicle_type chp_vehicle_type_towing party_type  at_fault  \\\n",
       "0          passenger car  passenger car, station     driver         1   \n",
       "1          passenger car  passenger car, station     driver         0   \n",
       "2          passenger car  passenger car, station     driver         1   \n",
       "\n",
       "          party_sobriety  party_number_killed  party_number_injured  \\\n",
       "0  had not been drinking                    0                     0   \n",
       "1  had not been drinking                    0                     0   \n",
       "2  had not been drinking                    0                     0   \n",
       "\n",
       "     collision_severity weather_1                 lighting collision_date  \\\n",
       "0  property damage only    cloudy             dusk or dawn     2009-02-11   \n",
       "1                  pain    cloudy  dark with street lights     2009-02-08   \n",
       "2  property damage only     clear                 daylight     2009-02-10   \n",
       "\n",
       "  county_location  severity  sobriety  volvo  weather  light  suv  vehicle_age  \n",
       "0     los angeles         0         0      0        0      1    0          5.0  \n",
       "1     los angeles         0         0      0        0      0    0          8.0  \n",
       "2     los angeles         0         0      1        0      0    0          5.0  "
      ]
     },
     "execution_count": 49,
     "metadata": {},
     "output_type": "execute_result"
    }
   ],
   "source": [
    "df['collision_date'] = pd.to_datetime(df['collision_date'])\n",
    "\n",
    "df['vehicle_age'] = df['collision_date'].dt.year - df['vehicle_year']\n",
    "\n",
    "df.head(3)"
   ]
  },
  {
   "cell_type": "markdown",
   "metadata": {},
   "source": [
    "### Create dummy variable for `party_sex`"
   ]
  },
  {
   "cell_type": "code",
   "execution_count": 50,
   "metadata": {},
   "outputs": [
    {
     "name": "stdout",
     "output_type": "stream",
     "text": [
      "male      458271\n",
      "female    394840\n",
      "X              9\n",
      "Name: party_sex, dtype: int64\n"
     ]
    }
   ],
   "source": [
    "print(df['party_sex'].value_counts())\n",
    "\n",
    "# the sex category of X was introduced very recently so there was only 9 incidences so we drop.\n",
    "df.drop(df[df['party_sex']== 'X'].index, inplace = True)\n",
    "\n",
    "df['party_sex'] = df['party_sex'].map({'male':0, 'female':1})"
   ]
  },
  {
   "cell_type": "code",
   "execution_count": 51,
   "metadata": {},
   "outputs": [
    {
     "name": "stdout",
     "output_type": "stream",
     "text": [
      "driver            852990\n",
      "other                 63\n",
      "parked vehicle        58\n",
      "Name: party_type, dtype: int64\n"
     ]
    }
   ],
   "source": [
    "print(df['party_type'].value_counts())\n",
    "# we will only consider cases where the party involved in the vehicle was the driver \n",
    "df.drop(df[df['party_type'] == 'parked vehicle'].index, inplace=True)\n",
    "df.drop(df[df['party_type'] == 'other'].index, inplace=True)"
   ]
  },
  {
   "cell_type": "markdown",
   "metadata": {},
   "source": [
    "## Exploratory Data Analysis "
   ]
  },
  {
   "cell_type": "code",
   "execution_count": 52,
   "metadata": {},
   "outputs": [
    {
     "data": {
      "text/html": [
       "<div>\n",
       "<style scoped>\n",
       "    .dataframe tbody tr th:only-of-type {\n",
       "        vertical-align: middle;\n",
       "    }\n",
       "\n",
       "    .dataframe tbody tr th {\n",
       "        vertical-align: top;\n",
       "    }\n",
       "\n",
       "    .dataframe thead th {\n",
       "        text-align: right;\n",
       "    }\n",
       "</style>\n",
       "<table border=\"1\" class=\"dataframe\">\n",
       "  <thead>\n",
       "    <tr style=\"text-align: right;\">\n",
       "      <th></th>\n",
       "      <th>vehicle_year</th>\n",
       "      <th>party_age</th>\n",
       "      <th>party_sex</th>\n",
       "      <th>at_fault</th>\n",
       "      <th>party_number_killed</th>\n",
       "      <th>party_number_injured</th>\n",
       "      <th>severity</th>\n",
       "      <th>sobriety</th>\n",
       "      <th>volvo</th>\n",
       "      <th>weather</th>\n",
       "      <th>light</th>\n",
       "      <th>suv</th>\n",
       "      <th>vehicle_age</th>\n",
       "    </tr>\n",
       "  </thead>\n",
       "  <tbody>\n",
       "    <tr>\n",
       "      <th>count</th>\n",
       "      <td>852990.000000</td>\n",
       "      <td>852990.000000</td>\n",
       "      <td>852990.000000</td>\n",
       "      <td>852990.000000</td>\n",
       "      <td>852990.000000</td>\n",
       "      <td>852990.000000</td>\n",
       "      <td>852990.000000</td>\n",
       "      <td>852990.000000</td>\n",
       "      <td>852990.000000</td>\n",
       "      <td>852990.000000</td>\n",
       "      <td>852990.000000</td>\n",
       "      <td>852990.000000</td>\n",
       "      <td>852990.000000</td>\n",
       "    </tr>\n",
       "    <tr>\n",
       "      <th>mean</th>\n",
       "      <td>2003.804333</td>\n",
       "      <td>38.683788</td>\n",
       "      <td>0.462854</td>\n",
       "      <td>0.433526</td>\n",
       "      <td>0.002598</td>\n",
       "      <td>0.293748</td>\n",
       "      <td>0.021495</td>\n",
       "      <td>0.046904</td>\n",
       "      <td>0.088001</td>\n",
       "      <td>0.033637</td>\n",
       "      <td>0.110790</td>\n",
       "      <td>0.099606</td>\n",
       "      <td>8.110940</td>\n",
       "    </tr>\n",
       "    <tr>\n",
       "      <th>std</th>\n",
       "      <td>8.604303</td>\n",
       "      <td>16.004956</td>\n",
       "      <td>0.498619</td>\n",
       "      <td>0.495562</td>\n",
       "      <td>0.058351</td>\n",
       "      <td>0.572966</td>\n",
       "      <td>0.145027</td>\n",
       "      <td>0.211434</td>\n",
       "      <td>0.283297</td>\n",
       "      <td>0.180293</td>\n",
       "      <td>0.313872</td>\n",
       "      <td>0.299474</td>\n",
       "      <td>6.976608</td>\n",
       "    </tr>\n",
       "    <tr>\n",
       "      <th>min</th>\n",
       "      <td>1907.000000</td>\n",
       "      <td>0.000000</td>\n",
       "      <td>0.000000</td>\n",
       "      <td>0.000000</td>\n",
       "      <td>0.000000</td>\n",
       "      <td>0.000000</td>\n",
       "      <td>0.000000</td>\n",
       "      <td>0.000000</td>\n",
       "      <td>0.000000</td>\n",
       "      <td>0.000000</td>\n",
       "      <td>0.000000</td>\n",
       "      <td>0.000000</td>\n",
       "      <td>-28.000000</td>\n",
       "    </tr>\n",
       "    <tr>\n",
       "      <th>25%</th>\n",
       "      <td>2000.000000</td>\n",
       "      <td>25.000000</td>\n",
       "      <td>0.000000</td>\n",
       "      <td>0.000000</td>\n",
       "      <td>0.000000</td>\n",
       "      <td>0.000000</td>\n",
       "      <td>0.000000</td>\n",
       "      <td>0.000000</td>\n",
       "      <td>0.000000</td>\n",
       "      <td>0.000000</td>\n",
       "      <td>0.000000</td>\n",
       "      <td>0.000000</td>\n",
       "      <td>3.000000</td>\n",
       "    </tr>\n",
       "    <tr>\n",
       "      <th>50%</th>\n",
       "      <td>2004.000000</td>\n",
       "      <td>36.000000</td>\n",
       "      <td>0.000000</td>\n",
       "      <td>0.000000</td>\n",
       "      <td>0.000000</td>\n",
       "      <td>0.000000</td>\n",
       "      <td>0.000000</td>\n",
       "      <td>0.000000</td>\n",
       "      <td>0.000000</td>\n",
       "      <td>0.000000</td>\n",
       "      <td>0.000000</td>\n",
       "      <td>0.000000</td>\n",
       "      <td>7.000000</td>\n",
       "    </tr>\n",
       "    <tr>\n",
       "      <th>75%</th>\n",
       "      <td>2010.000000</td>\n",
       "      <td>50.000000</td>\n",
       "      <td>1.000000</td>\n",
       "      <td>1.000000</td>\n",
       "      <td>0.000000</td>\n",
       "      <td>0.000000</td>\n",
       "      <td>0.000000</td>\n",
       "      <td>0.000000</td>\n",
       "      <td>0.000000</td>\n",
       "      <td>0.000000</td>\n",
       "      <td>0.000000</td>\n",
       "      <td>0.000000</td>\n",
       "      <td>12.000000</td>\n",
       "    </tr>\n",
       "    <tr>\n",
       "      <th>max</th>\n",
       "      <td>2048.000000</td>\n",
       "      <td>121.000000</td>\n",
       "      <td>1.000000</td>\n",
       "      <td>1.000000</td>\n",
       "      <td>5.000000</td>\n",
       "      <td>7.000000</td>\n",
       "      <td>1.000000</td>\n",
       "      <td>1.000000</td>\n",
       "      <td>1.000000</td>\n",
       "      <td>1.000000</td>\n",
       "      <td>1.000000</td>\n",
       "      <td>1.000000</td>\n",
       "      <td>100.000000</td>\n",
       "    </tr>\n",
       "  </tbody>\n",
       "</table>\n",
       "</div>"
      ],
      "text/plain": [
       "        vehicle_year      party_age      party_sex       at_fault  \\\n",
       "count  852990.000000  852990.000000  852990.000000  852990.000000   \n",
       "mean     2003.804333      38.683788       0.462854       0.433526   \n",
       "std         8.604303      16.004956       0.498619       0.495562   \n",
       "min      1907.000000       0.000000       0.000000       0.000000   \n",
       "25%      2000.000000      25.000000       0.000000       0.000000   \n",
       "50%      2004.000000      36.000000       0.000000       0.000000   \n",
       "75%      2010.000000      50.000000       1.000000       1.000000   \n",
       "max      2048.000000     121.000000       1.000000       1.000000   \n",
       "\n",
       "       party_number_killed  party_number_injured       severity  \\\n",
       "count        852990.000000         852990.000000  852990.000000   \n",
       "mean              0.002598              0.293748       0.021495   \n",
       "std               0.058351              0.572966       0.145027   \n",
       "min               0.000000              0.000000       0.000000   \n",
       "25%               0.000000              0.000000       0.000000   \n",
       "50%               0.000000              0.000000       0.000000   \n",
       "75%               0.000000              0.000000       0.000000   \n",
       "max               5.000000              7.000000       1.000000   \n",
       "\n",
       "            sobriety          volvo        weather          light  \\\n",
       "count  852990.000000  852990.000000  852990.000000  852990.000000   \n",
       "mean        0.046904       0.088001       0.033637       0.110790   \n",
       "std         0.211434       0.283297       0.180293       0.313872   \n",
       "min         0.000000       0.000000       0.000000       0.000000   \n",
       "25%         0.000000       0.000000       0.000000       0.000000   \n",
       "50%         0.000000       0.000000       0.000000       0.000000   \n",
       "75%         0.000000       0.000000       0.000000       0.000000   \n",
       "max         1.000000       1.000000       1.000000       1.000000   \n",
       "\n",
       "                 suv    vehicle_age  \n",
       "count  852990.000000  852990.000000  \n",
       "mean        0.099606       8.110940  \n",
       "std         0.299474       6.976608  \n",
       "min         0.000000     -28.000000  \n",
       "25%         0.000000       3.000000  \n",
       "50%         0.000000       7.000000  \n",
       "75%         0.000000      12.000000  \n",
       "max         1.000000     100.000000  "
      ]
     },
     "execution_count": 52,
     "metadata": {},
     "output_type": "execute_result"
    }
   ],
   "source": [
    "df.describe()"
   ]
  },
  {
   "cell_type": "markdown",
   "metadata": {},
   "source": [
    "- Looking at `party_age` column, we see that the minimum party age is 0 which doesn't make sense. Therefore, we will be filtering out rows where `party_age < 16` which is the legal driving age in California. "
   ]
  },
  {
   "cell_type": "code",
   "execution_count": 53,
   "metadata": {},
   "outputs": [],
   "source": [
    "df = df.query('party_age >= 16')"
   ]
  },
  {
   "cell_type": "markdown",
   "metadata": {},
   "source": [
    "- Looking at the `vehicle_age` column, we see that the minimum age of a car is -28, which doesn't make sense.\n",
    "- We looked how many cars had negative vehicle age. \n",
    "- Vehicle age of -1 still makes sense because car manufacturers sometimes tend to release new model year cars earlier. Therefore we will only drop rows with `vehicle_age < -1`. \n",
    "- We will map `vehicle_age == -1` to 0. "
   ]
  },
  {
   "cell_type": "code",
   "execution_count": 61,
   "metadata": {},
   "outputs": [
    {
     "name": "stdout",
     "output_type": "stream",
     "text": [
      "-1.0    4716\n",
      "Name: vehicle_age, dtype: int64\n"
     ]
    }
   ],
   "source": [
    "print(df.query('vehicle_age < 0')['vehicle_age'].value_counts()) \n",
    "df = df.query('vehicle_age > -2')\n",
    "df['vehicle_age'] = df['vehicle_age'].replace({-1:0})"
   ]
  },
  {
   "cell_type": "markdown",
   "metadata": {},
   "source": [
    "- We will also filter for `vehicle_age <= 20` to take into account for really old vehicles that we are not interested in looking at.  "
   ]
  },
  {
   "cell_type": "code",
   "execution_count": 66,
   "metadata": {},
   "outputs": [],
   "source": [
    "df = df[df['vehicle_age']<= 20]"
   ]
  },
  {
   "cell_type": "code",
   "execution_count": 67,
   "metadata": {},
   "outputs": [
    {
     "data": {
      "text/plain": [
       "(810269, 24)"
      ]
     },
     "execution_count": 67,
     "metadata": {},
     "output_type": "execute_result"
    }
   ],
   "source": [
    "df.shape"
   ]
  },
  {
   "cell_type": "markdown",
   "metadata": {},
   "source": [
    "## Export the file to csv for regression"
   ]
  },
  {
   "cell_type": "code",
   "execution_count": 68,
   "metadata": {},
   "outputs": [],
   "source": [
    "df.to_csv('collision_data.csv')"
   ]
  },
  {
   "cell_type": "code",
   "execution_count": 65,
   "metadata": {},
   "outputs": [
    {
     "data": {
      "text/html": [
       "<div>\n",
       "<style scoped>\n",
       "    .dataframe tbody tr th:only-of-type {\n",
       "        vertical-align: middle;\n",
       "    }\n",
       "\n",
       "    .dataframe tbody tr th {\n",
       "        vertical-align: top;\n",
       "    }\n",
       "\n",
       "    .dataframe thead th {\n",
       "        text-align: right;\n",
       "    }\n",
       "</style>\n",
       "<table border=\"1\" class=\"dataframe\">\n",
       "  <thead>\n",
       "    <tr style=\"text-align: right;\">\n",
       "      <th></th>\n",
       "      <th>case_id</th>\n",
       "      <th>vehicle_year</th>\n",
       "      <th>vehicle_make</th>\n",
       "      <th>party_age</th>\n",
       "      <th>party_sex</th>\n",
       "      <th>statewide_vehicle_type</th>\n",
       "      <th>chp_vehicle_type_towing</th>\n",
       "      <th>party_type</th>\n",
       "      <th>at_fault</th>\n",
       "      <th>party_sobriety</th>\n",
       "      <th>party_number_killed</th>\n",
       "      <th>party_number_injured</th>\n",
       "      <th>collision_severity</th>\n",
       "      <th>weather_1</th>\n",
       "      <th>lighting</th>\n",
       "      <th>collision_date</th>\n",
       "      <th>county_location</th>\n",
       "      <th>severity</th>\n",
       "      <th>sobriety</th>\n",
       "      <th>volvo</th>\n",
       "      <th>weather</th>\n",
       "      <th>light</th>\n",
       "      <th>suv</th>\n",
       "      <th>vehicle_age</th>\n",
       "    </tr>\n",
       "  </thead>\n",
       "  <tbody>\n",
       "    <tr>\n",
       "      <th>0</th>\n",
       "      <td>3899446</td>\n",
       "      <td>2004.0</td>\n",
       "      <td>bmw</td>\n",
       "      <td>36.0</td>\n",
       "      <td>0</td>\n",
       "      <td>passenger car</td>\n",
       "      <td>passenger car, station</td>\n",
       "      <td>driver</td>\n",
       "      <td>1</td>\n",
       "      <td>had not been drinking</td>\n",
       "      <td>0</td>\n",
       "      <td>0</td>\n",
       "      <td>property damage only</td>\n",
       "      <td>cloudy</td>\n",
       "      <td>dusk or dawn</td>\n",
       "      <td>2009-02-11</td>\n",
       "      <td>los angeles</td>\n",
       "      <td>0</td>\n",
       "      <td>0</td>\n",
       "      <td>0</td>\n",
       "      <td>0</td>\n",
       "      <td>1</td>\n",
       "      <td>0</td>\n",
       "      <td>5.0</td>\n",
       "    </tr>\n",
       "    <tr>\n",
       "      <th>1</th>\n",
       "      <td>3899454</td>\n",
       "      <td>2001.0</td>\n",
       "      <td>volkswagen</td>\n",
       "      <td>51.0</td>\n",
       "      <td>1</td>\n",
       "      <td>passenger car</td>\n",
       "      <td>passenger car, station</td>\n",
       "      <td>driver</td>\n",
       "      <td>0</td>\n",
       "      <td>had not been drinking</td>\n",
       "      <td>0</td>\n",
       "      <td>0</td>\n",
       "      <td>pain</td>\n",
       "      <td>cloudy</td>\n",
       "      <td>dark with street lights</td>\n",
       "      <td>2009-02-08</td>\n",
       "      <td>los angeles</td>\n",
       "      <td>0</td>\n",
       "      <td>0</td>\n",
       "      <td>0</td>\n",
       "      <td>0</td>\n",
       "      <td>0</td>\n",
       "      <td>0</td>\n",
       "      <td>8.0</td>\n",
       "    </tr>\n",
       "    <tr>\n",
       "      <th>2</th>\n",
       "      <td>3899457</td>\n",
       "      <td>2004.0</td>\n",
       "      <td>volvo</td>\n",
       "      <td>34.0</td>\n",
       "      <td>1</td>\n",
       "      <td>passenger car</td>\n",
       "      <td>passenger car, station</td>\n",
       "      <td>driver</td>\n",
       "      <td>1</td>\n",
       "      <td>had not been drinking</td>\n",
       "      <td>0</td>\n",
       "      <td>0</td>\n",
       "      <td>property damage only</td>\n",
       "      <td>clear</td>\n",
       "      <td>daylight</td>\n",
       "      <td>2009-02-10</td>\n",
       "      <td>los angeles</td>\n",
       "      <td>0</td>\n",
       "      <td>0</td>\n",
       "      <td>1</td>\n",
       "      <td>0</td>\n",
       "      <td>0</td>\n",
       "      <td>0</td>\n",
       "      <td>5.0</td>\n",
       "    </tr>\n",
       "    <tr>\n",
       "      <th>3</th>\n",
       "      <td>3899497</td>\n",
       "      <td>2003.0</td>\n",
       "      <td>mercedes-benz</td>\n",
       "      <td>43.0</td>\n",
       "      <td>0</td>\n",
       "      <td>passenger car</td>\n",
       "      <td>passenger car, station</td>\n",
       "      <td>driver</td>\n",
       "      <td>0</td>\n",
       "      <td>had not been drinking</td>\n",
       "      <td>0</td>\n",
       "      <td>0</td>\n",
       "      <td>pain</td>\n",
       "      <td>clear</td>\n",
       "      <td>dark with street lights</td>\n",
       "      <td>2009-02-25</td>\n",
       "      <td>los angeles</td>\n",
       "      <td>0</td>\n",
       "      <td>0</td>\n",
       "      <td>0</td>\n",
       "      <td>0</td>\n",
       "      <td>0</td>\n",
       "      <td>0</td>\n",
       "      <td>6.0</td>\n",
       "    </tr>\n",
       "    <tr>\n",
       "      <th>4</th>\n",
       "      <td>3899497</td>\n",
       "      <td>2003.0</td>\n",
       "      <td>mercedes-benz</td>\n",
       "      <td>55.0</td>\n",
       "      <td>0</td>\n",
       "      <td>passenger car</td>\n",
       "      <td>passenger car, station</td>\n",
       "      <td>driver</td>\n",
       "      <td>0</td>\n",
       "      <td>had not been drinking</td>\n",
       "      <td>0</td>\n",
       "      <td>1</td>\n",
       "      <td>pain</td>\n",
       "      <td>clear</td>\n",
       "      <td>dark with street lights</td>\n",
       "      <td>2009-02-25</td>\n",
       "      <td>los angeles</td>\n",
       "      <td>0</td>\n",
       "      <td>0</td>\n",
       "      <td>0</td>\n",
       "      <td>0</td>\n",
       "      <td>0</td>\n",
       "      <td>0</td>\n",
       "      <td>6.0</td>\n",
       "    </tr>\n",
       "  </tbody>\n",
       "</table>\n",
       "</div>"
      ],
      "text/plain": [
       "   case_id  vehicle_year   vehicle_make  party_age  party_sex  \\\n",
       "0  3899446        2004.0            bmw       36.0          0   \n",
       "1  3899454        2001.0     volkswagen       51.0          1   \n",
       "2  3899457        2004.0          volvo       34.0          1   \n",
       "3  3899497        2003.0  mercedes-benz       43.0          0   \n",
       "4  3899497        2003.0  mercedes-benz       55.0          0   \n",
       "\n",
       "  statewide_vehicle_type chp_vehicle_type_towing party_type  at_fault  \\\n",
       "0          passenger car  passenger car, station     driver         1   \n",
       "1          passenger car  passenger car, station     driver         0   \n",
       "2          passenger car  passenger car, station     driver         1   \n",
       "3          passenger car  passenger car, station     driver         0   \n",
       "4          passenger car  passenger car, station     driver         0   \n",
       "\n",
       "          party_sobriety  party_number_killed  party_number_injured  \\\n",
       "0  had not been drinking                    0                     0   \n",
       "1  had not been drinking                    0                     0   \n",
       "2  had not been drinking                    0                     0   \n",
       "3  had not been drinking                    0                     0   \n",
       "4  had not been drinking                    0                     1   \n",
       "\n",
       "     collision_severity weather_1                 lighting collision_date  \\\n",
       "0  property damage only    cloudy             dusk or dawn     2009-02-11   \n",
       "1                  pain    cloudy  dark with street lights     2009-02-08   \n",
       "2  property damage only     clear                 daylight     2009-02-10   \n",
       "3                  pain     clear  dark with street lights     2009-02-25   \n",
       "4                  pain     clear  dark with street lights     2009-02-25   \n",
       "\n",
       "  county_location  severity  sobriety  volvo  weather  light  suv  vehicle_age  \n",
       "0     los angeles         0         0      0        0      1    0          5.0  \n",
       "1     los angeles         0         0      0        0      0    0          8.0  \n",
       "2     los angeles         0         0      1        0      0    0          5.0  \n",
       "3     los angeles         0         0      0        0      0    0          6.0  \n",
       "4     los angeles         0         0      0        0      0    0          6.0  "
      ]
     },
     "execution_count": 65,
     "metadata": {},
     "output_type": "execute_result"
    }
   ],
   "source": [
    "df.head()"
   ]
  },
  {
   "cell_type": "code",
   "execution_count": null,
   "metadata": {},
   "outputs": [],
   "source": []
  },
  {
   "cell_type": "code",
   "execution_count": null,
   "metadata": {},
   "outputs": [],
   "source": []
  }
 ],
 "metadata": {
  "interpreter": {
   "hash": "e66d7a49faa5f6c041480274529b07e61fdf2b613be61b53e5e2e687091ef67e"
  },
  "kernelspec": {
   "display_name": "Python 3.8.8 64-bit ('base': conda)",
   "name": "python3"
  },
  "language_info": {
   "codemirror_mode": {
    "name": "ipython",
    "version": 3
   },
   "file_extension": ".py",
   "mimetype": "text/x-python",
   "name": "python",
   "nbconvert_exporter": "python",
   "pygments_lexer": "ipython3",
   "version": "3.8.8"
  },
  "orig_nbformat": 4
 },
 "nbformat": 4,
 "nbformat_minor": 2
}
